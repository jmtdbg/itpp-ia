{
  "nbformat": 4,
  "nbformat_minor": 0,
  "metadata": {
    "colab": {
      "provenance": [],
      "authorship_tag": "ABX9TyOJs7mzaFDNXzM0KGyPFgYZ",
      "include_colab_link": true
    },
    "kernelspec": {
      "name": "python3",
      "display_name": "Python 3"
    },
    "language_info": {
      "name": "python"
    }
  },
  "cells": [
    {
      "cell_type": "markdown",
      "metadata": {
        "id": "view-in-github",
        "colab_type": "text"
      },
      "source": [
        "<a href=\"https://colab.research.google.com/github/jmtdbg/itpp-ia/blob/main/Atividade2_Johnny_Pereira_ECAI.ipynb\" target=\"_parent\"><img src=\"https://colab.research.google.com/assets/colab-badge.svg\" alt=\"Open In Colab\"/></a>"
      ]
    },
    {
      "cell_type": "code",
      "execution_count": null,
      "metadata": {
        "id": "Ry3d2Otopjc0"
      },
      "outputs": [],
      "source": [
        "# 🚀 Curso de Especialização em Computação Aplicada na Indústria 4.0\n",
        "### Disciplina: Introdução a Técnicas de Programação com Python\n",
        "## Exercícios - Aula 2\n",
        "###---"
      ]
    },
    {
      "cell_type": "code",
      "source": [
        "# 🚀 Questão 1 — Apresentando Log na Tela\n",
        "print(\"===== 🚀 Log Formatado 🚀 =====\")\n",
        "operador = str(input(\"Digite o nome do operador: \"))\n",
        "operacao = str(input(\"Digite o nome da operadoção: \"))                   # Verificação_Sensor\n",
        "status = \"OK\"\n",
        "\n",
        "print(f\"🔌 [LOG] Operador: {operador.upper().replace(' ', '_')} | Ação: {operacao.upper().replace(' ', '_')} | status: {status.upper()}\")\n",
        "\n",
        "print(\"=\" * 30)"
      ],
      "metadata": {
        "colab": {
          "base_uri": "https://localhost:8080/"
        },
        "id": "6YbcYqyLqzeg",
        "outputId": "b707b3dc-2b39-4ef9-813b-bfbadbb29586"
      },
      "execution_count": null,
      "outputs": [
        {
          "output_type": "stream",
          "name": "stdout",
          "text": [
            "===== 🚀 Log Formatado 🚀 =====\n",
            "Digite o nome do operador: johnny pereira\n",
            "Digite o nome da operadoção: teste de tela\n",
            "🔌 [LOG] Operador: JOHNNY_PEREIRA | Ação: TESTE_DE_TELA | status: OK\n",
            "==============================\n"
          ]
        }
      ]
    },
    {
      "cell_type": "code",
      "source": [
        "# 🚀 Questão 2 — Apresentando Log de falha na Tela\n",
        "print(\"===== 🚀 Log de Falha 🚀 =====\")\n",
        "\n",
        "from posixpath import split\n",
        "registro = \"hora:14h;evento:FALHA;setor:embalagem\"\n",
        "\n",
        "split_string = registro.split(\";\")\n",
        "\n",
        "split_horario = split_string[0]\n",
        "split_evento = split_string[1]\n",
        "split_setor = split_string[2]\n",
        "\n",
        "split_horario = split_horario.split(\":\")\n",
        "horario = split_horario[1]\n",
        "\n",
        "split_evento = split_evento.split(\":\")\n",
        "evento = split_evento[1]\n",
        "\n",
        "split_setor = split_setor.split(\":\")\n",
        "setor = split_setor[1]\n",
        "\n",
        "\n",
        "print(f\"🔌 [{horario}] {evento.upper()} detectada no setor {setor.upper()}\")\n",
        "\n",
        "print(\"=\" * 30)"
      ],
      "metadata": {
        "colab": {
          "base_uri": "https://localhost:8080/"
        },
        "id": "21i4nbUeydzG",
        "outputId": "9d52b3f2-b88e-4445-eb3f-6f6adf5a6d83"
      },
      "execution_count": null,
      "outputs": [
        {
          "output_type": "stream",
          "name": "stdout",
          "text": [
            "===== 🚀 Log de Falha 🚀 =====\n",
            "🔌 [14h] FALHA detectada no setor EMBALAGEM\n",
            "==============================\n"
          ]
        }
      ]
    },
    {
      "cell_type": "code",
      "source": [
        "# 🚀 Questão 3 — simulador de monitoramento de uma linha de produção em uma indústria 4.0\n",
        "\n",
        "def monitorar_linha_producao():\n",
        "    print(\"=\"*60)\n",
        "    print(\"MONITORAMENTO DA LINHA DE PRODUÇÃO\".center(60))\n",
        "    print(\"=\"*60)\n",
        "\n",
        "    # Entrada de dados\n",
        "    nome_linha = input(\"Nome da linha de produção: \").strip()\n",
        "    unidades_produzidas = int(input(\"Número de unidades produzidas: \"))\n",
        "    meta_producao = int(input(\"Meta de produção: \"))\n",
        "    operadores = int(input(\"Número de operadores ativos: \"))\n",
        "    horas = float(input(\"Horas de operação: \"))\n",
        "    status_turno = input(\"Status do turno (ativo/inativo): \").strip().lower()\n",
        "\n",
        "    print(\"\\n\" + \"=\"*60)\n",
        "    print(f\"RELATÓRIO DA LINHA {nome_linha.upper()}\".center(60))\n",
        "    print(\"=\"*60)\n",
        "\n",
        "    # Cálculos com operadores aritméticos\n",
        "    eficiencia = (unidades_produzidas / meta_producao) * 100 if meta_producao > 0 else 0\n",
        "    media_operador = unidades_produzidas / operadores if operadores > 0 else 0\n",
        "    producao_por_hora = unidades_produzidas / horas if horas > 0 else 0\n",
        "\n",
        "    # Exibição dos resultados\n",
        "    print(f\"Status do turno         : {status_turno.title()}\")\n",
        "    print(f\"Eficiência              : {eficiencia:.2f}%\")\n",
        "    print(f\"Média por operador      : {media_operador:.2f} unidades\")\n",
        "    print(f\"Produção por hora       : {producao_por_hora:.2f} unidades\")\n",
        "\n",
        "    print(\"\\n\" + \"-\"*60)\n",
        "    print(\"ANÁLISE DE DESEMPENHO\".center(60))\n",
        "    print(\"-\"*60)\n",
        "\n",
        "    # Geração de alertas com operadores de comparação\n",
        "    if eficiencia < 85:\n",
        "        alerta = \"Alerta: eficiência abaixo do esperado!\"\n",
        "        print(alerta.replace(\"eficiência\", \"EFICIÊNCIA\").upper())\n",
        "\n",
        "    if media_operador < 10:\n",
        "        sugestao = \"Sugestão: considerar reforço da equipe.\"\n",
        "        print(sugestao.replace(\"reforço\", \"aumento\"))\n",
        "\n",
        "    if producao_por_hora < 20:\n",
        "        recomendacao = \"Revisar o maquinário, produtividade por hora baixa.\"\n",
        "        print(recomendacao.title())\n",
        "\n",
        "    print(\"\\n\" + \"=\"*60)\n",
        "    print(\"FIM DO RELATÓRIO\".center(60))\n",
        "    print(\"=\"*60)\n",
        "\n",
        "# Executar o program\n",
        "monitorar_linha_producao()\n"
      ],
      "metadata": {
        "id": "T1j6wyGVJwhA",
        "outputId": "d606b53c-a9b1-4ea5-acf3-54fb5c125f82",
        "colab": {
          "base_uri": "https://localhost:8080/"
        }
      },
      "execution_count": 6,
      "outputs": [
        {
          "output_type": "stream",
          "name": "stdout",
          "text": [
            "============================================================\n",
            "             MONITORAMENTO DA LINHA DE PRODUÇÃO             \n",
            "============================================================\n",
            "Nome da linha de produção: teste\n",
            "Número de unidades produzidas: 100\n",
            "Meta de produção: 200\n",
            "Número de operadores ativos: 0\n",
            "Horas de operação: 30\n",
            "Status do turno (ativo/inativo): ativo\n",
            "\n",
            "============================================================\n",
            "                  RELATÓRIO DA LINHA TESTE                  \n",
            "============================================================\n",
            "Status do turno         : Ativo\n",
            "Eficiência              : 50.00%\n",
            "Média por operador      : 0.00 unidades\n",
            "Produção por hora       : 3.33 unidades\n",
            "\n",
            "------------------------------------------------------------\n",
            "                   ANÁLISE DE DESEMPENHO                    \n",
            "------------------------------------------------------------\n",
            "ALERTA: EFICIÊNCIA ABAIXO DO ESPERADO!\n",
            "Sugestão: considerar aumento da equipe.\n",
            "Revisar O Maquinário, Produtividade Por Hora Baixa.\n",
            "\n",
            "============================================================\n",
            "                      FIM DO RELATÓRIO                      \n",
            "============================================================\n"
          ]
        }
      ]
    }
  ]
}