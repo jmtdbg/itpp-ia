{
  "nbformat": 4,
  "nbformat_minor": 0,
  "metadata": {
    "colab": {
      "provenance": [],
      "authorship_tag": "ABX9TyMD2cPA6H+fdEsQv0NdNx5t",
      "include_colab_link": true
    },
    "kernelspec": {
      "name": "python3",
      "display_name": "Python 3"
    },
    "language_info": {
      "name": "python"
    }
  },
  "cells": [
    {
      "cell_type": "markdown",
      "metadata": {
        "id": "view-in-github",
        "colab_type": "text"
      },
      "source": [
        "<a href=\"https://colab.research.google.com/github/jmtdbg/itpp-ia/blob/main/Atividade2_Johnny_Pereira_ECAI.ipynb\" target=\"_parent\"><img src=\"https://colab.research.google.com/assets/colab-badge.svg\" alt=\"Open In Colab\"/></a>"
      ]
    },
    {
      "cell_type": "code",
      "execution_count": 1,
      "metadata": {
        "id": "Ry3d2Otopjc0"
      },
      "outputs": [],
      "source": [
        "# 🚀 Curso de Especialização em Computação Aplicada na Indústria 4.0\n",
        "### Disciplina: Introdução a Técnicas de Programação com Python\n",
        "## Exercícios - Aula 2\n",
        "###---"
      ]
    }
  ]
}