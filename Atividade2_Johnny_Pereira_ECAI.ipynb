{
  "nbformat": 4,
  "nbformat_minor": 0,
  "metadata": {
    "colab": {
      "provenance": [],
      "authorship_tag": "ABX9TyM+ajtblNJoddzrmeAVOi0S",
      "include_colab_link": true
    },
    "kernelspec": {
      "name": "python3",
      "display_name": "Python 3"
    },
    "language_info": {
      "name": "python"
    }
  },
  "cells": [
    {
      "cell_type": "markdown",
      "metadata": {
        "id": "view-in-github",
        "colab_type": "text"
      },
      "source": [
        "<a href=\"https://colab.research.google.com/github/jmtdbg/itpp-ia/blob/main/Atividade2_Johnny_Pereira_ECAI.ipynb\" target=\"_parent\"><img src=\"https://colab.research.google.com/assets/colab-badge.svg\" alt=\"Open In Colab\"/></a>"
      ]
    },
    {
      "cell_type": "code",
      "execution_count": 1,
      "metadata": {
        "id": "Ry3d2Otopjc0"
      },
      "outputs": [],
      "source": [
        "# 🚀 Curso de Especialização em Computação Aplicada na Indústria 4.0\n",
        "### Disciplina: Introdução a Técnicas de Programação com Python\n",
        "## Exercícios - Aula 2\n",
        "###---"
      ]
    },
    {
      "cell_type": "code",
      "source": [
        "# 🚀 Questão 1 — Apresentando Log na Tela\n",
        "print(\"===== 🚀 Log Formatado 🚀 =====\")\n",
        "operador = str(input(\"Digite o nome do operador: \"))\n",
        "operacao = str(input(\"Digite o nome da operadoção: \"))                   # Verificação_Sensor\n",
        "status = \"OK\"\n",
        "\n",
        "print(f\"🔌 [LOG] Operador: {operador.upper().replace(' ', '_')} | Ação: {operacao.upper().replace(' ', '_')} | status: {status.upper()}\")\n",
        "\n",
        "print(\"=\" * 30)"
      ],
      "metadata": {
        "colab": {
          "base_uri": "https://localhost:8080/"
        },
        "id": "6YbcYqyLqzeg",
        "outputId": "b707b3dc-2b39-4ef9-813b-bfbadbb29586"
      },
      "execution_count": 20,
      "outputs": [
        {
          "output_type": "stream",
          "name": "stdout",
          "text": [
            "===== 🚀 Log Formatado 🚀 =====\n",
            "Digite o nome do operador: johnny pereira\n",
            "Digite o nome da operadoção: teste de tela\n",
            "🔌 [LOG] Operador: JOHNNY_PEREIRA | Ação: TESTE_DE_TELA | status: OK\n",
            "==============================\n"
          ]
        }
      ]
    },
    {
      "cell_type": "code",
      "source": [
        "from posixpath import split\n",
        "# 🚀 Questão 2 — Apresentando Log de falha na Tela\n",
        "print(\"===== 🚀 Log de Falha 🚀 =====\")\n",
        "registro = \"hora:14h;evento:FALHA;setor:embalagem\"\n",
        "\n",
        "split_string = registro.split(\";\")\n",
        "\n",
        "split_horario = split_string[0]\n",
        "split_evento = split_string[1]\n",
        "split_setor = split_string[2]\n",
        "\n",
        "split_horario = split_horario.split(\":\")\n",
        "horario = split_horario[1]\n",
        "\n",
        "split_evento = split_evento.split(\":\")\n",
        "evento = split_evento[1]\n",
        "\n",
        "split_setor = split_setor.split(\":\")\n",
        "setor = split_setor[1]\n",
        "\n",
        "\n",
        "print(f\"🔌 [{horario}] {evento.upper()} detectada no setor {setor.upper()}\")\n",
        "\n",
        "print(\"=\" * 30)"
      ],
      "metadata": {
        "colab": {
          "base_uri": "https://localhost:8080/"
        },
        "id": "21i4nbUeydzG",
        "outputId": "9d52b3f2-b88e-4445-eb3f-6f6adf5a6d83"
      },
      "execution_count": 27,
      "outputs": [
        {
          "output_type": "stream",
          "name": "stdout",
          "text": [
            "===== 🚀 Log de Falha 🚀 =====\n",
            "🔌 [14h] FALHA detectada no setor EMBALAGEM\n",
            "==============================\n"
          ]
        }
      ]
    }
  ]
}