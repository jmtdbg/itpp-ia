{
  "nbformat": 4,
  "nbformat_minor": 0,
  "metadata": {
    "colab": {
      "provenance": [],
      "authorship_tag": "ABX9TyPEeg1WmWMmNYFN4gNedopx",
      "include_colab_link": true
    },
    "kernelspec": {
      "name": "python3",
      "display_name": "Python 3"
    },
    "language_info": {
      "name": "python"
    }
  },
  "cells": [
    {
      "cell_type": "markdown",
      "metadata": {
        "id": "view-in-github",
        "colab_type": "text"
      },
      "source": [
        "<a href=\"https://colab.research.google.com/github/jmtdbg/itpp-ia/blob/main/aula_2.ipynb\" target=\"_parent\"><img src=\"https://colab.research.google.com/assets/colab-badge.svg\" alt=\"Open In Colab\"/></a>"
      ]
    },
    {
      "cell_type": "code",
      "execution_count": 2,
      "metadata": {
        "colab": {
          "base_uri": "https://localhost:8080/"
        },
        "id": "_PxhEFCKaAC7",
        "outputId": "de42c0f0-a2c7-4360-aec9-f14bb78f3a4b"
      },
      "outputs": [
        {
          "output_type": "stream",
          "name": "stdout",
          "text": [
            "Dia 1: Produção acumulada = 1050\n",
            "Dia 2: Produção acumulada = 1100\n",
            "Dia 3: Produção acumulada = 1150\n",
            "Dia 4: Produção acumulada = 1200\n",
            "Dia 5: Produção acumulada = 1250\n"
          ]
        }
      ],
      "source": [
        "producao = 1000\n",
        "incremento_diario = 50\n",
        "for dia in range(1, 6):\n",
        "  producao += incremento_diario\n",
        "  print(f\"Dia {dia}: Produção acumulada = {producao}\")"
      ]
    }
  ]
}