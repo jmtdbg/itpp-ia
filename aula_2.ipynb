{
  "nbformat": 4,
  "nbformat_minor": 0,
  "metadata": {
    "colab": {
      "provenance": [],
      "authorship_tag": "ABX9TyPWC461yCx8HxPeim8lHjSP",
      "include_colab_link": true
    },
    "kernelspec": {
      "name": "python3",
      "display_name": "Python 3"
    },
    "language_info": {
      "name": "python"
    }
  },
  "cells": [
    {
      "cell_type": "markdown",
      "metadata": {
        "id": "view-in-github",
        "colab_type": "text"
      },
      "source": [
        "<a href=\"https://colab.research.google.com/github/jmtdbg/itpp-ia/blob/main/aula_2.ipynb\" target=\"_parent\"><img src=\"https://colab.research.google.com/assets/colab-badge.svg\" alt=\"Open In Colab\"/></a>"
      ]
    },
    {
      "cell_type": "code",
      "execution_count": 2,
      "metadata": {
        "colab": {
          "base_uri": "https://localhost:8080/"
        },
        "id": "_PxhEFCKaAC7",
        "outputId": "de42c0f0-a2c7-4360-aec9-f14bb78f3a4b"
      },
      "outputs": [
        {
          "output_type": "stream",
          "name": "stdout",
          "text": [
            "Dia 1: Produção acumulada = 1050\n",
            "Dia 2: Produção acumulada = 1100\n",
            "Dia 3: Produção acumulada = 1150\n",
            "Dia 4: Produção acumulada = 1200\n",
            "Dia 5: Produção acumulada = 1250\n"
          ]
        }
      ],
      "source": [
        "producao = 1000\n",
        "incremento_diario = 50\n",
        "for dia in range(1, 6):\n",
        "  producao += incremento_diario\n",
        "  print(f\"Dia {dia}: Produção acumulada = {producao}\")"
      ]
    },
    {
      "cell_type": "code",
      "source": [
        "mensagem = \"produção em tempo real\"\n",
        "print(mensagem.upper())                         #PRODUÇÃO EM TEMPO REAL\n",
        "print(mensagem.capitalize())                    #Produção em tempo real\n",
        "print(mensagem.title())                         #Produção Em Tempo Real\n",
        "print(mensagem.replace(\"real\", \"síncrono\"))     #produção em tempo síncrono\n",
        "print(\"sensor01\".startswith(\"sensor\"))          #True\n",
        "print(\"LOG0001\".isdigit())                      #False\n",
        "print(\"tempo\" in mensagem)                      #True\n",
        "print(mensagem.split())                         #['produção', 'em', 'tempo', 'real']\n",
        "\n"
      ],
      "metadata": {
        "colab": {
          "base_uri": "https://localhost:8080/"
        },
        "id": "W2jMwaFddj_X",
        "outputId": "28b46e2d-861f-45f3-e490-42944a6926d9"
      },
      "execution_count": 6,
      "outputs": [
        {
          "output_type": "stream",
          "name": "stdout",
          "text": [
            "PRODUÇÃO EM TEMPO REAL\n",
            "Produção em tempo real\n",
            "Produção Em Tempo Real\n",
            "produção em tempo síncrono\n",
            "True\n",
            "False\n",
            "True\n",
            "['produção', 'em', 'tempo', 'real']\n"
          ]
        }
      ]
    }
  ]
}